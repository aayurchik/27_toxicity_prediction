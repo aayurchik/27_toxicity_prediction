{
 "cells": [
  {
   "cell_type": "code",
   "execution_count": null,
   "id": "830c7df3",
   "metadata": {},
   "outputs": [
    {
     "name": "stdout",
     "output_type": "stream",
     "text": [
      "(1021, 7)\n",
      "<class 'pandas.core.frame.DataFrame'>\n",
      "RangeIndex: 1021 entries, 0 to 1020\n",
      "Data columns (total 7 columns):\n",
      " #   Column            Non-Null Count  Dtype  \n",
      "---  ------            --------------  -----  \n",
      " 0   TAID              1021 non-null   object \n",
      " 1   Name              541 non-null    object \n",
      " 2   IUPAC Name        1002 non-null   object \n",
      " 3   PubChem CID       1002 non-null   float64\n",
      " 4   Canonical SMILES  1009 non-null   object \n",
      " 5   InChIKey          1001 non-null   object \n",
      " 6   Toxicity Value    1021 non-null   int64  \n",
      "dtypes: float64(1), int64(1), object(5)\n",
      "memory usage: 56.0+ KB\n",
      "None\n"
     ]
    }
   ],
   "source": [
    "import pandas as pd\n",
    "import numpy as np\n",
    "\n",
    "#Канцерогенность \n",
    "df = pd.read_csv('../datasets/toxric_30_datasets/Carcinogenicity_Carcinogenicity.csv')\n",
    "print(fdf.shape)\n",
    "print(df.info())\n"
   ]
  },
  {
   "cell_type": "markdown",
   "id": "95a0ee3d",
   "metadata": {},
   "source": [
    "SMILES — строка химической структуры\n",
    "Toxicity Value  — целевая переменная (0 — нетоксично, 1 — токсично)"
   ]
  },
  {
   "cell_type": "code",
   "execution_count": 10,
   "id": "71b408bb",
   "metadata": {},
   "outputs": [
    {
     "name": "stdout",
     "output_type": "stream",
     "text": [
      "      TAID                 Name  \\\n",
      "0   TOX-19             mannitol   \n",
      "1   TOX-28        nitroglycerin   \n",
      "2   TOX-74                  NaN   \n",
      "3   TOX-78      hexachlorophene   \n",
      "4   TOX-83                  NaN   \n",
      "5   TOX-98  hydrochlorothiazide   \n",
      "6  TOX-110          niclosamide   \n",
      "7  TOX-117          fluconazole   \n",
      "8  TOX-143              dapsone   \n",
      "9  TOX-145         hydroquinone   \n",
      "\n",
      "                                          IUPAC Name  PubChem CID  \\\n",
      "0             (2R,3R,4R,5R)-hexane-1,2,3,4,5,6-hexol       6251.0   \n",
      "1                  1,3-dinitrooxypropan-2-yl nitrate       4510.0   \n",
      "2                         3,7-dihydropurine-6-thione     667490.0   \n",
      "3  3,4,6-trichloro-2-[(2,3,5-trichloro-6-hydroxyp...       3598.0   \n",
      "4                   5-fluoro-1H-pyrimidine-2,4-dione       3385.0   \n",
      "5  6-chloro-1,1-dioxo-3,4-dihydro-2H-1lambda6,2,4...       3639.0   \n",
      "6  5-chloro-N-(2-chloro-4-nitrophenyl)-2-hydroxyb...       4477.0   \n",
      "7  2-(2,4-difluorophenyl)-1,3-bis(1,2,4-triazol-1...       3365.0   \n",
      "8                   4-(4-aminophenyl)sulfonylaniline       2955.0   \n",
      "9                                   benzene-1,4-diol        785.0   \n",
      "\n",
      "                               Canonical SMILES                     InChIKey  \\\n",
      "0        OC[C@@H](O)[C@@H](O)[C@H](O)[C@H](O)CO  FBPFZTCFMRRESA-KVTDHHQDSA-N   \n",
      "1  O=[N+]([O-])OCC(CO[N+](=O)[O-])O[N+](=O)[O-]  SNIOPGDIGTZGOP-UHFFFAOYSA-N   \n",
      "2                         S=c1nc[nH]c2nc[nH]c12  GLVAUDGFNGKCSF-UHFFFAOYSA-N   \n",
      "3   Oc1c(Cl)cc(Cl)c(Cl)c1Cc1c(O)c(Cl)cc(Cl)c1Cl  ACGUYXCXAPNIKK-UHFFFAOYSA-N   \n",
      "4                       O=c1[nH]cc(F)c(=O)[nH]1  GHASVSINZRGABV-UHFFFAOYSA-N   \n",
      "5            NS(=O)(=O)c1cc2c(cc1Cl)NCNS2(=O)=O  JZUFKLXOESDKRF-UHFFFAOYSA-N   \n",
      "6   O=C(Nc1ccc([N+](=O)[O-])cc1Cl)c1cc(Cl)ccc1O  RJMUSRYZPJIFPJ-UHFFFAOYSA-N   \n",
      "7            OC(Cn1cncn1)(Cn1cncn1)c1ccc(F)cc1F  RFHAOTPXVQNOHP-UHFFFAOYSA-N   \n",
      "8               Nc1ccc(S(=O)(=O)c2ccc(N)cc2)cc1  MQJKPEGWNLWLTK-UHFFFAOYSA-N   \n",
      "9                                  Oc1ccc(O)cc1  QIGBRXMKCJKVMJ-UHFFFAOYSA-N   \n",
      "\n",
      "   Toxicity Value  \n",
      "0               0  \n",
      "1               1  \n",
      "2               0  \n",
      "3               0  \n",
      "4               0  \n",
      "5               0  \n",
      "6               0  \n",
      "7               1  \n",
      "8               1  \n",
      "9               1  \n"
     ]
    }
   ],
   "source": [
    "print(df.head(10))"
   ]
  },
  {
   "cell_type": "code",
   "execution_count": 22,
   "id": "49efb845",
   "metadata": {},
   "outputs": [
    {
     "name": "stdout",
     "output_type": "stream",
     "text": [
      "Размерность: (1021, 7)\n",
      "<class 'pandas.core.frame.DataFrame'>\n",
      "RangeIndex: 1021 entries, 0 to 1020\n",
      "Data columns (total 7 columns):\n",
      " #   Column            Non-Null Count  Dtype  \n",
      "---  ------            --------------  -----  \n",
      " 0   TAID              1021 non-null   object \n",
      " 1   Name              541 non-null    object \n",
      " 2   IUPAC Name        1002 non-null   object \n",
      " 3   PubChem CID       1002 non-null   float64\n",
      " 4   Canonical SMILES  1009 non-null   object \n",
      " 5   InChIKey          1001 non-null   object \n",
      " 6   Toxicity Value    1021 non-null   int64  \n",
      "dtypes: float64(1), int64(1), object(5)\n",
      "memory usage: 56.0+ KB\n",
      "None\n"
     ]
    }
   ],
   "source": [
    "print(f\"Размерность: {df.shape}\")\n",
    "print(df.info())"
   ]
  },
  {
   "cell_type": "code",
   "execution_count": null,
   "id": "3d777ca4",
   "metadata": {},
   "outputs": [
    {
     "name": "stdout",
     "output_type": "stream",
     "text": [
      "TAID                  0\n",
      "Name                480\n",
      "IUPAC Name           19\n",
      "PubChem CID          19\n",
      "Canonical SMILES     12\n",
      "InChIKey             20\n",
      "Toxicity Value        0\n",
      "dtype: int64\n",
      "TAID                 0.000000\n",
      "Name                47.012733\n",
      "IUPAC Name           1.860921\n",
      "PubChem CID          1.860921\n",
      "Canonical SMILES     1.175318\n",
      "InChIKey             1.958864\n",
      "Toxicity Value       0.000000\n",
      "dtype: float64\n"
     ]
    }
   ],
   "source": [
    "# ПРОПУСКИ\n",
    "missing_count = df.isna().sum()\n",
    "print(missing_count)\n",
    "missing_percent = (100 * missing_count / len(df))\n",
    "print(missing_percent)"
   ]
  }
 ],
 "metadata": {
  "kernelspec": {
   "display_name": "Python 3",
   "language": "python",
   "name": "python3"
  },
  "language_info": {
   "codemirror_mode": {
    "name": "ipython",
    "version": 3
   },
   "file_extension": ".py",
   "mimetype": "text/x-python",
   "name": "python",
   "nbconvert_exporter": "python",
   "pygments_lexer": "ipython3",
   "version": "3.13.7"
  }
 },
 "nbformat": 4,
 "nbformat_minor": 5
}
