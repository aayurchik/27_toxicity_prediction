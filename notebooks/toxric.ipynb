{
 "cells": [
  {
   "cell_type": "code",
   "execution_count": 40,
   "id": "a84b5719",
   "metadata": {},
   "outputs": [],
   "source": [
    "import pandas as pd\n",
    "import numpy as np\n",
    "import matplotlib.pyplot as plt\n",
    "import seaborn as sns\n",
    "\n",
    "from rdkit import Chem\n",
    "from rdkit.Chem import Draw\n"
   ]
  },
  {
   "cell_type": "code",
   "execution_count": null,
   "id": "830c7df3",
   "metadata": {},
   "outputs": [],
   "source": [
    "#Канцерогенность — это способность веществ или факторов вызывать или повышать вероятность развития рака\n",
    "df = pd.read_csv('../datasets/toxric_30_datasets/Carcinogenicity_Carcinogenicity.csv')\n"
   ]
  },
  {
   "cell_type": "code",
   "execution_count": 43,
   "id": "b36a8374",
   "metadata": {},
   "outputs": [
    {
     "name": "stdout",
     "output_type": "stream",
     "text": [
      "Корректных молекул: 1009\n",
      "Некорректных молекул: 12\n",
      "Доля невалидных: 1.18%\n"
     ]
    }
   ],
   "source": [
    "def is_valid_smiles(smiles):\n",
    "    \"\"\"Проверяет, можно ли построить молекулу из SMILES\"\"\"\n",
    "    try:\n",
    "        mol = Chem.MolFromSmiles(smiles)\n",
    "        return mol is not None\n",
    "    except:\n",
    "        return False\n",
    "\n",
    "df[\"is_valid\"] = df[\"Canonical SMILES\"].apply(is_valid_smiles)\n",
    "\n",
    "total = len(df)\n",
    "valid = df[\"is_valid\"].sum()\n",
    "invalid = total - valid\n",
    "\n",
    "print(f\"Корректных молекул: {valid}\")\n",
    "print(f\"Некорректных молекул: {invalid}\")\n",
    "print(f\"Доля невалидных: {invalid / total:.2%}\")\n"
   ]
  },
  {
   "cell_type": "markdown",
   "id": "95a0ee3d",
   "metadata": {},
   "source": [
    "SMILES — строка химической структуры\n",
    "Toxicity Value  — целевая переменная (0 — нетоксично, 1 — токсично)"
   ]
  },
  {
   "cell_type": "code",
   "execution_count": null,
   "id": "49efb845",
   "metadata": {},
   "outputs": [
    {
     "name": "stdout",
     "output_type": "stream",
     "text": [
      "Размерность: (1021, 7)\n",
      "<class 'pandas.core.frame.DataFrame'>\n",
      "RangeIndex: 1021 entries, 0 to 1020\n",
      "Data columns (total 7 columns):\n",
      " #   Column            Non-Null Count  Dtype  \n",
      "---  ------            --------------  -----  \n",
      " 0   TAID              1021 non-null   object \n",
      " 1   Name              541 non-null    object \n",
      " 2   IUPAC Name        1002 non-null   object \n",
      " 3   PubChem CID       1002 non-null   float64\n",
      " 4   Canonical SMILES  1009 non-null   object \n",
      " 5   InChIKey          1001 non-null   object \n",
      " 6   Toxicity Value    1021 non-null   int64  \n",
      "dtypes: float64(1), int64(1), object(5)\n",
      "memory usage: 56.0+ KB\n",
      "None\n"
     ]
    }
   ],
   "source": [
    "print(f\"Размерность: {df.shape}\")\n",
    "print(df.info())\n",
    "print(df.head(10))"
   ]
  },
  {
   "cell_type": "code",
   "execution_count": null,
   "id": "3d777ca4",
   "metadata": {},
   "outputs": [
    {
     "name": "stdout",
     "output_type": "stream",
     "text": [
      "TAID                  0\n",
      "Name                480\n",
      "IUPAC Name           19\n",
      "PubChem CID          19\n",
      "Canonical SMILES     12\n",
      "InChIKey             20\n",
      "Toxicity Value        0\n",
      "dtype: int64\n",
      "TAID                 0.000000\n",
      "Name                47.012733\n",
      "IUPAC Name           1.860921\n",
      "PubChem CID          1.860921\n",
      "Canonical SMILES     1.175318\n",
      "InChIKey             1.958864\n",
      "Toxicity Value       0.000000\n",
      "dtype: float64\n"
     ]
    }
   ],
   "source": [
    "# ПРОПУСКИ\n",
    "missing_count = df.isna().sum()\n",
    "print(missing_count)\n",
    "missing_percent = (100 * missing_count / len(df))\n",
    "print(missing_percent)\n"
   ]
  },
  {
   "cell_type": "code",
   "execution_count": null,
   "id": "48cf42b1",
   "metadata": {},
   "outputs": [
    {
     "name": "stdout",
     "output_type": "stream",
     "text": [
      "Процент токсичных в-в: 49.66%\n"
     ]
    },
    {
     "data": {
      "text/plain": [
       "<Axes: xlabel='Toxicity Value', ylabel='count'>"
      ]
     },
     "execution_count": 36,
     "metadata": {},
     "output_type": "execute_result"
    },
    {
     "data": {
      "image/png": "[encoded data removed]",
      "text/plain": [
       "<Figure size 640x480 with 1 Axes>"
      ]
     },
     "metadata": {},
     "output_type": "display_data"
    }
   ],
   "source": [
    "# Распределение токсичности\n",
    "print(f\"Процент токсичных в-в: {df['Toxicity Value'].mean():.2%}\")\n",
    "\n",
    "sns.countplot(x='Toxicity Value', data=df, hue='Toxicity Value')"
   ]
  }
 ],
 "metadata": {
  "kernelspec": {
   "display_name": "Python 3",
   "language": "python",
   "name": "python3"
  },
  "language_info": {
   "codemirror_mode": {
    "name": "ipython",
    "version": 3
   },
   "file_extension": ".py",
   "mimetype": "text/x-python",
   "name": "python",
   "nbconvert_exporter": "python",
   "pygments_lexer": "ipython3",
   "version": "3.13.7"
  }
 },
 "nbformat": 4,
 "nbformat_minor": 5
}
