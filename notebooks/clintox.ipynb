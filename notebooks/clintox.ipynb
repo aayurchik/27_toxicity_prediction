{
 "cells": [
  {
   "cell_type": "code",
   "execution_count": 4,
   "id": "830c7df3",
   "metadata": {},
   "outputs": [
    {
     "name": "stdout",
     "output_type": "stream",
     "text": [
      "<class 'pandas.core.frame.DataFrame'>\n",
      "RangeIndex: 1181 entries, 0 to 1180\n",
      "Data columns (total 3 columns):\n",
      " #   Column   Non-Null Count  Dtype \n",
      "---  ------   --------------  ----- \n",
      " 0   smiles   1181 non-null   object\n",
      " 1   selfies  1181 non-null   object\n",
      " 2   target   1181 non-null   int64 \n",
      "dtypes: int64(1), object(2)\n",
      "memory usage: 27.8+ KB\n",
      "None\n",
      "                                              smiles  \\\n",
      "0      CC(C)C[C@H](NC(=O)CNC(=O)c1cc(Cl)ccc1Cl)B(O)O   \n",
      "1  O=C(NCC(O)CO)c1c(I)c(C(=O)NCC(O)CO)c(I)c(N(CCO...   \n",
      "2                           Clc1cc(Cl)c(OCC#CI)cc1Cl   \n",
      "3  N#Cc1cc(NC(=O)C(=O)[O-])c(Cl)c(NC(=O)C(=O)[O-])c1   \n",
      "4             NS(=O)(=O)c1cc(Cl)c(Cl)c(S(N)(=O)=O)c1   \n",
      "\n",
      "                                             selfies  target  \n",
      "0  [C][C][Branch1][C][C][C][C@H1][Branch2][Ring1]...       1  \n",
      "1  [O][=C][Branch1][=Branch2][N][C][C][Branch1][C...       0  \n",
      "2  [Cl][C][=C][C][Branch1][C][Cl][=C][Branch1][=B...       0  \n",
      "3  [N][#C][C][=C][C][Branch1][O][N][C][=Branch1][...       0  \n",
      "4  [N][S][=Branch1][C][=O][=Branch1][C][=O][C][=C...       0  \n"
     ]
    }
   ],
   "source": [
    "import pandas as pd\n",
    "import numpy as np\n",
    "df = pd.read_csv('../datasets/clintox/clintox.csv')\n",
    "print(df.info())\n",
    "print(df.head())"
   ]
  }
 ],
 "metadata": {
  "kernelspec": {
   "display_name": "Python 3",
   "language": "python",
   "name": "python3"
  },
  "language_info": {
   "codemirror_mode": {
    "name": "ipython",
    "version": 3
   },
   "file_extension": ".py",
   "mimetype": "text/x-python",
   "name": "python",
   "nbconvert_exporter": "python",
   "pygments_lexer": "ipython3",
   "version": "3.13.7"
  }
 },
 "nbformat": 4,
 "nbformat_minor": 5
}
